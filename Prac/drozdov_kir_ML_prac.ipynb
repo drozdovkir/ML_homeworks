{
 "cells": [
  {
   "cell_type": "markdown",
   "metadata": {},
   "source": [
    "Быстро строим деревья\n",
    "Деревья глубины 1 обычно называют решающими пнями. Как Вы думаете, какая сложность построения решающего пня?\n",
    "\n",
    "Представим, что мы решаем задачу регрессии, считаем для одного сплита.\n",
    "\n",
    "$$Q = F(R_m) - \\frac{N_l}{N_m} F(R_l) - \\frac{N_r}{N_m} F(R_r) $$$$F(R) = \\frac{1}{N} \\sum_{i=1}^{N}(mean(y) - y_i) ^ 2 $$$$Q = F(R_m) - \\frac{1}{N_m} [ \\sum_{i \\in R_l}(mean(y_l) - y_i) ^ 2  +  \\sum_{i \\in R_r}(mean(y_r) - y_i) ^ 2 ]  $$\n",
    "$F(R_m) и N_m$ от сплита не зависит, можно отбросить. Осталось научиться быстро считать такие выражения: $\\sum_{i \\in R_l}(mean(y_l) - y_i) ^ 2$ для всех порогов.\n",
    "\n",
    "Если делать в лоб, то получится $O(||R||^2)$, нам не нравится, очень долго. Каждый раз пересчитывать довольно глупо, потому что мы точно знаем, какой именно объект при изменении сплита перешел из левой части в правую!\n",
    "\n",
    "Воспользуемся формулой для дисперсии:$$D(R) = mean(y ^ 2) -  mean(y) ^ 2 =   \\frac{1}{N} \\sum_{i \\in R} y_i^2 -  \\frac{1}{N ^ 2} (\\sum_{i \\in R} y_i) ^2$$\n",
    "\n",
    "Но у нас не дисперсия, а дисперсия без деления на число объектов, то есть:$$\\sum_{i \\in R_l}(mean(y_l) - y_i) ^ 2 =   \\sum_{i \\in R_k} y_i^2 -  \\frac{1}{N_l} (\\sum_{i \\in R_l} y_i) ^2 $$Аналогично для правого сплита.\n",
    "\n",
    "Вот мы и получили более простой алгоритм подсчета сплита:\n",
    "\n",
    "1) Отсортировали фичу и таргет по фиче\n",
    "\n",
    "2) Сначала считаем, что порог это минимальное значение, то есть левый кусок пустой, правый все значения. Храним для каждой из частей а) Сумму б) Сумму квадратов в) Число объектов\n",
    "\n",
    "3) Взяли следующее значение в отсортированном списке, это значение ушло от правого куска в левое. Обновили а) б) в) в обоих кусках\n",
    "\n",
    "4) Посчитали для каждого куска б) - а) ** 2 / в), сложили для обоих кусков. Если эта сумма маеньше лучшего значения, то это лучший сплит из текущих\n",
    "\n",
    "Реализуйте алгоритм, сравните качество со sklearn.\n",
    "\n",
    "Если получилось одинаково, Вы молодец!!!"
   ]
  },
  {
   "cell_type": "code",
   "execution_count": 13,
   "metadata": {},
   "outputs": [],
   "source": [
    "import numpy as np"
   ]
  },
  {
   "cell_type": "code",
   "execution_count": 46,
   "metadata": {},
   "outputs": [],
   "source": [
    "def get_threshold(feature, y):\n",
    "    bestThreshold = None\n",
    "    \n",
    "    indexes = np.argsort(feature)\n",
    "    sortedFeatures = feature[indexes]\n",
    "    sortedY = y[indexes]\n",
    "    \n",
    "    sumRight = np.sum(sortedY)\n",
    "    sumLeft = 0\n",
    "    \n",
    "    sumSquareRight = np.sum(sortedY ** 2)\n",
    "    sumSquareLeft = 0\n",
    "    \n",
    "    amountRight = feature.shape[0]\n",
    "    amountLeft = 0\n",
    "    \n",
    "    bestD = np.inf\n",
    "    leftMean, rightMean = None, None\n",
    "    for i, feature in enumerate(sortedFeatures[:-1]):\n",
    "        sumRight -= y[i]\n",
    "        sumLeft += y[i]\n",
    "        \n",
    "        sumSquareRight -= y[i] ** 2\n",
    "        sumSquareLeft += y[i] ** 2\n",
    "        \n",
    "        amountRight -= 1\n",
    "        amountLeft += 1\n",
    "        \n",
    "        leftD = sumSquareLeft - (sumLeft ** 2) / amountLeft\n",
    "        rightD = sumSquareRight - (sumRight ** 2) / amountRight\n",
    "        currentD = leftD + rightD\n",
    "        \n",
    "        if currentD < bestD:\n",
    "            bestD = currentD\n",
    "            bestThreshold = feature\n",
    "            leftMean = sumLeft / amountLeft\n",
    "            rightMean = sumRight / amountRight\n",
    "            \n",
    "    return bestD, bestThreshold, leftMean, rightMean\n",
    "\n",
    "\n",
    "def train_stump(X, y):\n",
    "    best_f = None\n",
    "    best_thr = None\n",
    "    best_error = np.inf\n",
    "    left_mean, right_mean = None, None\n",
    "    for j in range(X.shape[1]):\n",
    "        f_score, f_thr, lm, rm = get_threshold(X[:, j], y)\n",
    "        if f_score < best_error:\n",
    "            best_f = j\n",
    "            best_thr = f_thr\n",
    "            best_error = f_score\n",
    "            left_mean, right_mean = lm, rm\n",
    "    return best_f, best_thr, left_mean, right_mean"
   ]
  },
  {
   "cell_type": "code",
   "execution_count": 24,
   "metadata": {},
   "outputs": [
    {
     "data": {
      "text/plain": [
       "numpy.ndarray"
      ]
     },
     "execution_count": 24,
     "metadata": {},
     "output_type": "execute_result"
    }
   ],
   "source": [
    "from sklearn.datasets import load_boston\n",
    "X, y = load_boston(return_X_y=True)"
   ]
  },
  {
   "cell_type": "code",
   "execution_count": 7,
   "metadata": {},
   "outputs": [
    {
     "name": "stdout",
     "output_type": "stream",
     "text": [
      "0.0\n",
      "46.19909167710848\n"
     ]
    }
   ],
   "source": [
    "from sklearn.tree import DecisionTreeRegressor\n",
    "from sklearn.metrics import mean_squared_error\n",
    "regressor = DecisionTreeRegressor(random_state=0).fit(X, y)\n",
    "print(mean_squared_error(y, regressor.predict(X)))\n",
    "regressor_stump = DecisionTreeRegressor(random_state=0, max_depth=1).fit(X, y)\n",
    "print(mean_squared_error(y, regressor_stump.predict(X)))"
   ]
  },
  {
   "cell_type": "code",
   "execution_count": 49,
   "metadata": {},
   "outputs": [
    {
     "name": "stdout",
     "output_type": "stream",
     "text": [
      "0 2.924 25.25549597855231 14.896992481202988\n",
      "71.25313583527537\n"
     ]
    }
   ],
   "source": [
    "bestF, bestThreshold, leftMean, rightMean = train_stump(X, y)\n",
    "print(bestF, bestThreshold, leftMean, rightMean, sep=' ')\n",
    "yPred = []\n",
    "for x in X:\n",
    "    if x[bestF] > bestThreshold:\n",
    "        yPred.append(rightMean)\n",
    "    else:\n",
    "        yPred.append(leftMean)\n",
    "\n",
    "yPred = np.array(yPred)\n",
    "print(mean_squared_error(y, yPred))"
   ]
  },
  {
   "cell_type": "code",
   "execution_count": null,
   "metadata": {},
   "outputs": [],
   "source": []
  }
 ],
 "metadata": {
  "kernelspec": {
   "display_name": "Python 3",
   "language": "python",
   "name": "python3"
  },
  "language_info": {
   "codemirror_mode": {
    "name": "ipython",
    "version": 3
   },
   "file_extension": ".py",
   "mimetype": "text/x-python",
   "name": "python",
   "nbconvert_exporter": "python",
   "pygments_lexer": "ipython3",
   "version": "3.7.3"
  }
 },
 "nbformat": 4,
 "nbformat_minor": 4
}
